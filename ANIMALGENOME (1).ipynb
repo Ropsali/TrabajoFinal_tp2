{
  "nbformat": 4,
  "nbformat_minor": 0,
  "metadata": {
    "colab": {
      "name": "ANIMALGENOME.ipynb",
      "provenance": [],
      "collapsed_sections": []
    },
    "kernelspec": {
      "name": "python3",
      "display_name": "Python 3"
    }
  },
  "cells": [
    {
      "cell_type": "markdown",
      "metadata": {
        "id": "NtSyg_uQ63SR"
      },
      "source": [
        "### SCRAPEO DE ANIMALGENOME.ORG \n"
      ]
    },
    {
      "cell_type": "code",
      "metadata": {
        "id": "W9CkrGu_7IsY"
      },
      "source": [
        "import pandas as pd\n",
        "from urllib.request import urlopen\n",
        "from bs4 import BeautifulSoup as soup\n",
        "import requests"
      ],
      "execution_count": 1,
      "outputs": []
    },
    {
      "cell_type": "code",
      "metadata": {
        "id": "I5RpF1GyEjKV",
        "outputId": "6bd1a2df-f5e8-4890-9d02-ad37fc4886ab",
        "colab": {
          "base_uri": "https://localhost:8080/"
        }
      },
      "source": [
        "url=\"https://www.animalgenome.org/cgi-bin/QTLdb/OA/traitmap?trait_ID=3039\"\n",
        "uclient=urlopen(url)\n",
        "pagehtml=uclient.read()\n",
        "uclient.close()\n",
        "print(pagehtml)"
      ],
      "execution_count": 2,
      "outputs": [
        {
          "output_type": "stream",
          "text": [
            "b'<HTML>\\n<HEAD><TITLE>Sheep QTL Database</title>\\n<STYLE TYPE=\"text/css\"><!--\\nP { font-size:9pt;\\n    color:navy;\\n    font-family:sans-serif,arial,verdana,helvetica; }\\nINPUT  { font-size:8pt;\\n         color:navy;\\n\\t font-family:sans-serif,arial,verdana,helvetica; }\\n-->\\n</STYLE>\\n</HEAD>\\n\\n<BODY bgcolor=\"#FfFffF\" text=\"#0000A0\" link=\"#0000FF\" vlink=\"#0069E1\" alink=\"008840\">\\n<TABLE border=0 cellspacing=0 cellpadding=0 width=800 BACKGROUND=\"/QTLdb/images/titlebar_bg.jpg\">\\n <TR><TD align=left style=\"padding:2px;\"><a href=\"/QTLdb/sheep\"><img src=\"/QTLdb/images/sheepQTLdbsm.gif\"></a>\\n \\n </TD><TD align=\\'right\\' style=\\'padding:0 6px\\'>\\n \\n <FORM NAME=highlight style=\"margin:0px;\">\\n <TABLE border=0 cellspacing=2 cellpadding=0 align=right><TR>\\n <TD onmouseover=\"this.style.background=\\'yellow\\'\" onmouseout=\"this.style.background=\\'\\'\">\\n <INPUT TYPE=\"button\" VALUE=\"Browse\" onClick=\"location.href=\\'browse\\'\">\\n </TD><TD onmouseover=\"this.style.background=\\'yellow\\'\" onmouseout=\"this.style.background=\\'\\'\">\\n <INPUT TYPE=\"button\" VALUE=\"Search\" onClick=\"location.href=\\'search\\'\">\\n </TD><TD onmouseover=\"this.style.background=\\'yellow\\'\" onmouseout=\"this.style.background=\\'\\'\">\\n <INPUT TYPE=\"button\" VALUE=\"View Maps\" onClick=\"location.href=\\'viewmap\\'\">\\n </TD><TD onmouseover=\"this.style.background=\\'yellow\\'\" onmouseout=\"this.style.background=\\'\\'\">\\n <INPUT TYPE=\"button\" VALUE=\"F A Q\" onClick=\"location.href=\\'/QTLdb/faq\\'\">\\n </TD></TR></TABLE>\\n </FORM>\\n </TD></TR>\\n </TABLE>\\n\\n<h2>QTL for trait <font color=\"#8B0000\"><U>Milk Yield</U></font> in the Sheep Genome</h2>\\n( <I>Click on a chromosome to show all QTL on that chromosome; Click on a QTL name to get its details.</I> )\\n<img src=\"/tmp/map544022844.png\" usemap=\"#mymap\" border=\"0\">\\n<map name=\"mymap\">\\n<area shape=\"rect\" coords=\"703,527,711,658.5\" href=\"chromap?chromos=X&trait_ID=3039&trait_ID=3039\">\\n <area shape=\"rect\" coords=\"693,526,731,513\" href=\"chromap?chromos=X&trait_ID=3039\">\\n <area shape=\"rect\" coords=\"46,37,54,403.2\" href=\"chromap?chromos=1&trait_ID=3039&trait_ID=3039\">\\n <area shape=\"rect\" coords=\"36,36,74,23\" href=\"chromap?chromos=1&trait_ID=3039\">\\n <area shape=\"rect\" coords=\"59,140.9,67,128.9\" href=\"qdetails?QTL_ID=13827\">\\n <area shape=\"rect\" coords=\"72,174.7,80,162.7\" href=\"qdetails?QTL_ID=13830\">\\n <area shape=\"rect\" coords=\"85,163.5,93,151.5\" href=\"qdetails?QTL_ID=13832\">\\n <area shape=\"rect\" coords=\"98,294.51,106,282.51\" href=\"qdetails?QTL_ID=57709\">\\n <area shape=\"rect\" coords=\"119,37,127,393.2\" href=\"chromap?chromos=2&trait_ID=3039&trait_ID=3039\">\\n <area shape=\"rect\" coords=\"109,36,147,23\" href=\"chromap?chromos=2&trait_ID=3039\">\\n <area shape=\"rect\" coords=\"132,286.7,140,274.7\" href=\"qdetails?QTL_ID=13992\">\\n <area shape=\"rect\" coords=\"145,275.4,153,263.4\" href=\"qdetails?QTL_ID=14147\">\\n <area shape=\"rect\" coords=\"158,108.74,166,96.74\" href=\"qdetails?QTL_ID=57681\">\\n <area shape=\"rect\" coords=\"171,257.39,179,245.39\" href=\"qdetails?QTL_ID=57684\">\\n <area shape=\"rect\" coords=\"184,109.52,192,97.52\" href=\"qdetails?QTL_ID=57718\">\\n <area shape=\"rect\" coords=\"192,37,200,380.3\" href=\"chromap?chromos=3&trait_ID=3039&trait_ID=3039\">\\n <area shape=\"rect\" coords=\"182,36,220,23\" href=\"chromap?chromos=3&trait_ID=3039\">\\n <area shape=\"rect\" coords=\"205,152,213,140\" href=\"qdetails?QTL_ID=13996\">\\n <area shape=\"rect\" coords=\"218,169.99,226,157.99\" href=\"qdetails?QTL_ID=57740\">\\n <area shape=\"rect\" coords=\"265,37,273,225.8\" href=\"chromap?chromos=4&trait_ID=3039&trait_ID=3039\">\\n <area shape=\"rect\" coords=\"255,36,293,23\" href=\"chromap?chromos=4&trait_ID=3039\">\\n <area shape=\"rect\" coords=\"278,153.67,286,141.67\" href=\"qdetails?QTL_ID=193115\">\\n <area shape=\"rect\" coords=\"338,37,346,236.9\" href=\"chromap?chromos=5&trait_ID=3039&trait_ID=3039\">\\n <area shape=\"rect\" coords=\"328,36,366,23\" href=\"chromap?chromos=5&trait_ID=3039\">\\n <area shape=\"rect\" coords=\"411,37,419,233.7\" href=\"chromap?chromos=6&trait_ID=3039&trait_ID=3039\">\\n <area shape=\"rect\" coords=\"401,36,439,23\" href=\"chromap?chromos=6&trait_ID=3039\">\\n <area shape=\"rect\" coords=\"424,169.16,432,157.16\" href=\"qdetails?QTL_ID=13672\">\\n <area shape=\"rect\" coords=\"437,96.61,445,84.61\" href=\"qdetails?QTL_ID=13818\">\\n <area shape=\"rect\" coords=\"450,96.61,458,84.61\" href=\"qdetails?QTL_ID=13820\">\\n <area shape=\"rect\" coords=\"463,87.53,471,75.53\" href=\"qdetails?QTL_ID=14246\">\\n <area shape=\"rect\" coords=\"476,39,484,27\" href=\"qdetails?QTL_ID=170586\">\\n <area shape=\"rect\" coords=\"484,37,492,226.4\" href=\"chromap?chromos=7&trait_ID=3039&trait_ID=3039\">\\n <area shape=\"rect\" coords=\"474,36,512,23\" href=\"chromap?chromos=7&trait_ID=3039\">\\n <area shape=\"rect\" coords=\"497,99.5,505,87.5\" href=\"qdetails?QTL_ID=57745\">\\n <area shape=\"rect\" coords=\"557,37,565,205.8\" href=\"chromap?chromos=8&trait_ID=3039&trait_ID=3039\">\\n <area shape=\"rect\" coords=\"547,36,585,23\" href=\"chromap?chromos=8&trait_ID=3039\">\\n <area shape=\"rect\" coords=\"630,37,638,204.9\" href=\"chromap?chromos=9&trait_ID=3039&trait_ID=3039\">\\n <area shape=\"rect\" coords=\"620,36,658,23\" href=\"chromap?chromos=9&trait_ID=3039\">\\n <area shape=\"rect\" coords=\"643,55.6,651,43.6\" href=\"qdetails?QTL_ID=13985\">\\n <area shape=\"rect\" coords=\"703,37,711,178.2\" href=\"chromap?chromos=10&trait_ID=3039&trait_ID=3039\">\\n <area shape=\"rect\" coords=\"693,36,731,23\" href=\"chromap?chromos=10&trait_ID=3039\">\\n <area shape=\"rect\" coords=\"265,297,273,447.6\" href=\"chromap?chromos=11&trait_ID=3039&trait_ID=3039\">\\n <area shape=\"rect\" coords=\"255,296,293,283\" href=\"chromap?chromos=11&trait_ID=3039\">\\n <area shape=\"rect\" coords=\"278,365.6,286,353.6\" href=\"qdetails?QTL_ID=16017\">\\n <area shape=\"rect\" coords=\"291,382.71,299,370.71\" href=\"qdetails?QTL_ID=37589\">\\n <area shape=\"rect\" coords=\"304,382.7,312,370.7\" href=\"qdetails?QTL_ID=37592\">\\n <area shape=\"rect\" coords=\"338,297,346,444.4\" href=\"chromap?chromos=12&trait_ID=3039&trait_ID=3039\">\\n <area shape=\"rect\" coords=\"328,296,366,283\" href=\"chromap?chromos=12&trait_ID=3039\">\\n <area shape=\"rect\" coords=\"351,353.2,359,341.2\" href=\"qdetails?QTL_ID=14148\">\\n <area shape=\"rect\" coords=\"364,390.57,372,378.57\" href=\"qdetails?QTL_ID=57690\">\\n <area shape=\"rect\" coords=\"411,297,419,466.3\" href=\"chromap?chromos=13&trait_ID=3039&trait_ID=3039\">\\n <area shape=\"rect\" coords=\"401,296,439,283\" href=\"chromap?chromos=13&trait_ID=3039\">\\n <area shape=\"rect\" coords=\"424,319.28,432,307.28\" href=\"qdetails?QTL_ID=57749\">\\n <area shape=\"rect\" coords=\"437,299,445,287\" href=\"qdetails?QTL_ID=170593\">\\n <area shape=\"rect\" coords=\"450,299,458,287\" href=\"qdetails?QTL_ID=170594\">\\n <area shape=\"rect\" coords=\"463,299,471,287\" href=\"qdetails?QTL_ID=170597\">\\n <area shape=\"rect\" coords=\"476,299,484,287\" href=\"qdetails?QTL_ID=170598\">\\n <area shape=\"rect\" coords=\"484,297,492,456.9\" href=\"chromap?chromos=14&trait_ID=3039&trait_ID=3039\">\\n <area shape=\"rect\" coords=\"474,296,512,283\" href=\"chromap?chromos=14&trait_ID=3039\">\\n <area shape=\"rect\" coords=\"497,363.29,505,351.29\" href=\"qdetails?QTL_ID=14190\">\\n <area shape=\"rect\" coords=\"510,299,518,287\" href=\"qdetails?QTL_ID=170601\">\\n <area shape=\"rect\" coords=\"523,299,531,287\" href=\"qdetails?QTL_ID=170602\">\\n <area shape=\"rect\" coords=\"536,299,544,287\" href=\"qdetails?QTL_ID=170604\">\\n <area shape=\"rect\" coords=\"549,299,557,287\" href=\"qdetails?QTL_ID=170605\">\\n <area shape=\"rect\" coords=\"557,297,565,461.8\" href=\"chromap?chromos=15&trait_ID=3039&trait_ID=3039\">\\n <area shape=\"rect\" coords=\"547,296,585,283\" href=\"chromap?chromos=15&trait_ID=3039\">\\n <area shape=\"rect\" coords=\"570,381.05,578,369.05\" href=\"qdetails?QTL_ID=14186\">\\n <area shape=\"rect\" coords=\"630,297,638,422.7\" href=\"chromap?chromos=16&trait_ID=3039&trait_ID=3039\">\\n <area shape=\"rect\" coords=\"620,296,658,283\" href=\"chromap?chromos=16&trait_ID=3039\">\\n <area shape=\"rect\" coords=\"643,337.08,651,325.08\" href=\"qdetails?QTL_ID=57696\">\\n <area shape=\"rect\" coords=\"656,314.19,664,302.19\" href=\"qdetails?QTL_ID=57730\">\\n <area shape=\"rect\" coords=\"669,315.4,677,303.4\" href=\"qdetails?QTL_ID=57752\">\\n <area shape=\"rect\" coords=\"682,299,690,287\" href=\"qdetails?QTL_ID=170609\">\\n <area shape=\"rect\" coords=\"703,297,711,468\" href=\"chromap?chromos=17&trait_ID=3039&trait_ID=3039\">\\n <area shape=\"rect\" coords=\"693,296,731,283\" href=\"chromap?chromos=17&trait_ID=3039\">\\n <area shape=\"rect\" coords=\"716,375.23,724,363.23\" href=\"qdetails?QTL_ID=57756\">\\n <area shape=\"rect\" coords=\"46,527,54,695.7\" href=\"chromap?chromos=18&trait_ID=3039&trait_ID=3039\">\\n <area shape=\"rect\" coords=\"36,526,74,513\" href=\"chromap?chromos=18&trait_ID=3039\">\\n <area shape=\"rect\" coords=\"59,585,67,573\" href=\"qdetails?QTL_ID=14149\">\\n <area shape=\"rect\" coords=\"72,585,80,573\" href=\"qdetails?QTL_ID=14150\">\\n <area shape=\"rect\" coords=\"85,636.79,93,624.79\" href=\"qdetails?QTL_ID=14192\">\\n <area shape=\"rect\" coords=\"98,636.79,106,624.79\" href=\"qdetails?QTL_ID=14193\">\\n <area shape=\"rect\" coords=\"119,527,127,639.8\" href=\"chromap?chromos=19&trait_ID=3039&trait_ID=3039\">\\n <area shape=\"rect\" coords=\"109,526,147,513\" href=\"chromap?chromos=19&trait_ID=3039\">\\n <area shape=\"rect\" coords=\"132,587.5,140,575.5\" href=\"qdetails?QTL_ID=57732\">\\n <area shape=\"rect\" coords=\"145,529,153,517\" href=\"qdetails?QTL_ID=170613\">\\n <area shape=\"rect\" coords=\"158,529,166,517\" href=\"qdetails?QTL_ID=170616\">\\n <area shape=\"rect\" coords=\"192,527,200,667.9\" href=\"chromap?chromos=20&trait_ID=3039&trait_ID=3039\">\\n <area shape=\"rect\" coords=\"182,526,220,513\" href=\"chromap?chromos=20&trait_ID=3039\">\\n <area shape=\"rect\" coords=\"205,582.9,213,570.9\" href=\"qdetails?QTL_ID=14006\">\\n <area shape=\"rect\" coords=\"218,598.5,226,586.5\" href=\"qdetails?QTL_ID=14151\">\\n <area shape=\"rect\" coords=\"231,595.88,239,583.88\" href=\"qdetails?QTL_ID=193118\">\\n <area shape=\"rect\" coords=\"265,527,273,643.5\" href=\"chromap?chromos=21&trait_ID=3039&trait_ID=3039\">\\n <area shape=\"rect\" coords=\"255,526,293,513\" href=\"chromap?chromos=21&trait_ID=3039\">\\n <area shape=\"rect\" coords=\"278,572.59,286,560.59\" href=\"qdetails?QTL_ID=170221\">\\n <area shape=\"rect\" coords=\"338,527,346,650.9\" href=\"chromap?chromos=22&trait_ID=3039&trait_ID=3039\">\\n <area shape=\"rect\" coords=\"328,526,366,513\" href=\"chromap?chromos=22&trait_ID=3039\">\\n <area shape=\"rect\" coords=\"351,539.72,359,527.72\" href=\"qdetails?QTL_ID=57763\">\\n <area shape=\"rect\" coords=\"411,527,419,651.9\" href=\"chromap?chromos=23&trait_ID=3039&trait_ID=3039\">\\n <area shape=\"rect\" coords=\"401,526,439,513\" href=\"chromap?chromos=23&trait_ID=3039\">\\n <area shape=\"rect\" coords=\"424,612.9,432,600.9\" href=\"qdetails?QTL_ID=13906\">\\n <area shape=\"rect\" coords=\"484,527,492,649.6\" href=\"chromap?chromos=24&trait_ID=3039&trait_ID=3039\">\\n <area shape=\"rect\" coords=\"474,526,512,513\" href=\"chromap?chromos=24&trait_ID=3039\">\\n <area shape=\"rect\" coords=\"497,602,505,590\" href=\"qdetails?QTL_ID=14008\">\\n <area shape=\"rect\" coords=\"510,552,518,540\" href=\"qdetails?QTL_ID=14152\">\\n <area shape=\"rect\" coords=\"557,527,565,636.3\" href=\"chromap?chromos=25&trait_ID=3039&trait_ID=3039\">\\n <area shape=\"rect\" coords=\"547,526,585,513\" href=\"chromap?chromos=25&trait_ID=3039\">\\n <area shape=\"rect\" coords=\"630,527,638,639.1\" href=\"chromap?chromos=26&trait_ID=3039&trait_ID=3039\">\\n <area shape=\"rect\" coords=\"620,526,658,513\" href=\"chromap?chromos=26&trait_ID=3039\">\\n <area shape=\"rect\" coords=\"643,545.02,651,533.02\" href=\"qdetails?QTL_ID=170222\">\\n\\n</map>\\n  <UL style=\\'font-size:11pt;margin:6 0px;list-style-image:url(\"/icons/bullets/rarrow23.png\");\\'>\\n  <LI><a href=\\'wgplot?trait_ID=3039&traitnm=Milk Yield\\'>Try alternative whole genome plot</a>\\n  <LI><a href=\"nscape?isID=3039\">Try enrichment analysis on this trait type</a> <img src=\\'/icons/newest.gif\\'>\\n  <LI><B>Download:</B> <a href=\"/tmp/map544022844.txt.gz\">All data on \"<i>Milk Yield</i>\"</a>\\n  </UL>\\n\\n<BR><P>\\n<B>NOTES</B>:\\nAll QTL are shown to the right of its chromosome.  If the number of QTL shown\\non a chromosome is 5 (filled the space), there could be more QTL of this trait\\non that chromosome.  Click on the chromosome to find more.\\n<B>Legend:</B> \\n<font color=red>Red</font> QTL lines represent for significant and\\n<font color=\"#4876ff\">light blue</font> lines for suggestive statistical evidence.\\nThe <font color=\"#32CD32\">green</font> QTL name is the one under your examination.\\n<BR>\\n<B>Acknowledgement:</B> The Chromosome drawn is mainly based on the \\n<a href=\"http://intl.genome.org/cgi/content/full/10/1/137\">Wageningen Sheep\\nConsensus Linkage Map</a>\\n</P>\\n<HR style=\"margin:0px;padding:0px;border-top:1px solid #888\">\\n<TABLE border=0 width=\"100%\" cellpadding=0 cellspacing=0 style=\"margin:10 40 40 3px;padding:0;\">\\n<TR><TD style=\\'vertical-align:top;width:45px\\'>\\n<a href=\"/log\"><img border=0 align=left alt=\"Web Access Statistics\" src=\"/icons/stat_a.jpg\"></A>\\n</TD>\\n<TD style=\"font-size:8pt;color:red;font-family:verdana,helvetica,sans-serif;text-align:left;\">\\n&#169 2003-2020 <a style=\"font-size:8pt;font-family:verdana, helvetica, sans-serif;\"\\n href=\"/default/info\">NAGRP - Bioinformatics Coordination Program</a>.<BR>\\nContact: <a style=\"font-size:8pt;font-family:verdana, helvetica, sans-serif;\"\\n target=\"_parent\" href=\"/bioinfo/community/team\">NAGRP Bioinformatics Team</a>\\n</TD>\\n<TD style=\\'vertical-align:bottom;text-align:right;padding-right:18px\\'>\\n<a style=\"font-family:verdana;font-size:10pt;font-weight:bold;\" href=\"/helpdesk?subj=/home/apache/cgi-bin/QTLdb/OA/traitmap\">\\n<img src=\"/icons/small/bookstdl.gif\"> Helpdesk <img src=\"/icons/small/bookstdr.gif\"></a>\\n</TD></TR>\\n</TABLE>\\n</BODY></HTML>\\n'\n"
          ],
          "name": "stdout"
        }
      ]
    },
    {
      "cell_type": "code",
      "metadata": {
        "id": "ahntFrfjE6Kt"
      },
      "source": [
        "urls=[]\n",
        "pagesoup=soup(pagehtml, \"html.parser\")\n",
        "c=pagesoup.findAll(\"area\",{\"shape\":\"rect\"})\n",
        "for i in range(0,110):\n",
        "    if c[i][\"href\"][0:8]==\"qdetails\":\n",
        "        urls.append(\"https://www.animalgenome.org/cgi-bin/QTLdb/OA/\"+c[i][\"href\"])"
      ],
      "execution_count": 3,
      "outputs": []
    },
    {
      "cell_type": "code",
      "metadata": {
        "id": "nRFtpeGxFMk1",
        "outputId": "eaa72b41-8ddb-40f4-b55c-8106861fc0e8",
        "colab": {
          "base_uri": "https://localhost:8080/"
        }
      },
      "source": [
        "urls"
      ],
      "execution_count": 4,
      "outputs": [
        {
          "output_type": "execute_result",
          "data": {
            "text/plain": [
              "['https://www.animalgenome.org/cgi-bin/QTLdb/OA/qdetails?QTL_ID=13827',\n",
              " 'https://www.animalgenome.org/cgi-bin/QTLdb/OA/qdetails?QTL_ID=13830',\n",
              " 'https://www.animalgenome.org/cgi-bin/QTLdb/OA/qdetails?QTL_ID=13832',\n",
              " 'https://www.animalgenome.org/cgi-bin/QTLdb/OA/qdetails?QTL_ID=57709',\n",
              " 'https://www.animalgenome.org/cgi-bin/QTLdb/OA/qdetails?QTL_ID=13992',\n",
              " 'https://www.animalgenome.org/cgi-bin/QTLdb/OA/qdetails?QTL_ID=14147',\n",
              " 'https://www.animalgenome.org/cgi-bin/QTLdb/OA/qdetails?QTL_ID=57681',\n",
              " 'https://www.animalgenome.org/cgi-bin/QTLdb/OA/qdetails?QTL_ID=57684',\n",
              " 'https://www.animalgenome.org/cgi-bin/QTLdb/OA/qdetails?QTL_ID=57718',\n",
              " 'https://www.animalgenome.org/cgi-bin/QTLdb/OA/qdetails?QTL_ID=13996',\n",
              " 'https://www.animalgenome.org/cgi-bin/QTLdb/OA/qdetails?QTL_ID=57740',\n",
              " 'https://www.animalgenome.org/cgi-bin/QTLdb/OA/qdetails?QTL_ID=193115',\n",
              " 'https://www.animalgenome.org/cgi-bin/QTLdb/OA/qdetails?QTL_ID=13672',\n",
              " 'https://www.animalgenome.org/cgi-bin/QTLdb/OA/qdetails?QTL_ID=13818',\n",
              " 'https://www.animalgenome.org/cgi-bin/QTLdb/OA/qdetails?QTL_ID=13820',\n",
              " 'https://www.animalgenome.org/cgi-bin/QTLdb/OA/qdetails?QTL_ID=14246',\n",
              " 'https://www.animalgenome.org/cgi-bin/QTLdb/OA/qdetails?QTL_ID=170586',\n",
              " 'https://www.animalgenome.org/cgi-bin/QTLdb/OA/qdetails?QTL_ID=57745',\n",
              " 'https://www.animalgenome.org/cgi-bin/QTLdb/OA/qdetails?QTL_ID=13985',\n",
              " 'https://www.animalgenome.org/cgi-bin/QTLdb/OA/qdetails?QTL_ID=16017',\n",
              " 'https://www.animalgenome.org/cgi-bin/QTLdb/OA/qdetails?QTL_ID=37589',\n",
              " 'https://www.animalgenome.org/cgi-bin/QTLdb/OA/qdetails?QTL_ID=37592',\n",
              " 'https://www.animalgenome.org/cgi-bin/QTLdb/OA/qdetails?QTL_ID=14148',\n",
              " 'https://www.animalgenome.org/cgi-bin/QTLdb/OA/qdetails?QTL_ID=57690',\n",
              " 'https://www.animalgenome.org/cgi-bin/QTLdb/OA/qdetails?QTL_ID=57749',\n",
              " 'https://www.animalgenome.org/cgi-bin/QTLdb/OA/qdetails?QTL_ID=170593',\n",
              " 'https://www.animalgenome.org/cgi-bin/QTLdb/OA/qdetails?QTL_ID=170594',\n",
              " 'https://www.animalgenome.org/cgi-bin/QTLdb/OA/qdetails?QTL_ID=170597',\n",
              " 'https://www.animalgenome.org/cgi-bin/QTLdb/OA/qdetails?QTL_ID=170598',\n",
              " 'https://www.animalgenome.org/cgi-bin/QTLdb/OA/qdetails?QTL_ID=14190',\n",
              " 'https://www.animalgenome.org/cgi-bin/QTLdb/OA/qdetails?QTL_ID=170601',\n",
              " 'https://www.animalgenome.org/cgi-bin/QTLdb/OA/qdetails?QTL_ID=170602',\n",
              " 'https://www.animalgenome.org/cgi-bin/QTLdb/OA/qdetails?QTL_ID=170604',\n",
              " 'https://www.animalgenome.org/cgi-bin/QTLdb/OA/qdetails?QTL_ID=170605',\n",
              " 'https://www.animalgenome.org/cgi-bin/QTLdb/OA/qdetails?QTL_ID=14186',\n",
              " 'https://www.animalgenome.org/cgi-bin/QTLdb/OA/qdetails?QTL_ID=57696',\n",
              " 'https://www.animalgenome.org/cgi-bin/QTLdb/OA/qdetails?QTL_ID=57730',\n",
              " 'https://www.animalgenome.org/cgi-bin/QTLdb/OA/qdetails?QTL_ID=57752',\n",
              " 'https://www.animalgenome.org/cgi-bin/QTLdb/OA/qdetails?QTL_ID=170609',\n",
              " 'https://www.animalgenome.org/cgi-bin/QTLdb/OA/qdetails?QTL_ID=57756',\n",
              " 'https://www.animalgenome.org/cgi-bin/QTLdb/OA/qdetails?QTL_ID=14149',\n",
              " 'https://www.animalgenome.org/cgi-bin/QTLdb/OA/qdetails?QTL_ID=14150',\n",
              " 'https://www.animalgenome.org/cgi-bin/QTLdb/OA/qdetails?QTL_ID=14192',\n",
              " 'https://www.animalgenome.org/cgi-bin/QTLdb/OA/qdetails?QTL_ID=14193',\n",
              " 'https://www.animalgenome.org/cgi-bin/QTLdb/OA/qdetails?QTL_ID=57732',\n",
              " 'https://www.animalgenome.org/cgi-bin/QTLdb/OA/qdetails?QTL_ID=170613',\n",
              " 'https://www.animalgenome.org/cgi-bin/QTLdb/OA/qdetails?QTL_ID=170616',\n",
              " 'https://www.animalgenome.org/cgi-bin/QTLdb/OA/qdetails?QTL_ID=14006',\n",
              " 'https://www.animalgenome.org/cgi-bin/QTLdb/OA/qdetails?QTL_ID=14151',\n",
              " 'https://www.animalgenome.org/cgi-bin/QTLdb/OA/qdetails?QTL_ID=193118',\n",
              " 'https://www.animalgenome.org/cgi-bin/QTLdb/OA/qdetails?QTL_ID=170221',\n",
              " 'https://www.animalgenome.org/cgi-bin/QTLdb/OA/qdetails?QTL_ID=57763',\n",
              " 'https://www.animalgenome.org/cgi-bin/QTLdb/OA/qdetails?QTL_ID=13906',\n",
              " 'https://www.animalgenome.org/cgi-bin/QTLdb/OA/qdetails?QTL_ID=14008',\n",
              " 'https://www.animalgenome.org/cgi-bin/QTLdb/OA/qdetails?QTL_ID=14152',\n",
              " 'https://www.animalgenome.org/cgi-bin/QTLdb/OA/qdetails?QTL_ID=170222']"
            ]
          },
          "metadata": {
            "tags": []
          },
          "execution_count": 4
        }
      ]
    },
    {
      "cell_type": "code",
      "metadata": {
        "id": "04OJ_cmTFoaY"
      },
      "source": [
        "QTL_ID=[]\n",
        "CHROMOSOME=[]\n",
        "CENTER_CM=[]\n",
        "RANGE_CM=[]\n",
        "RANGE_MBP=[]\n",
        "SIGNIFICANCE=[]\n",
        "PUBLICATION=[]\n",
        "DOI=[]\n",
        "RAZA=[]\n",
        "PAIS =[]\n",
        "GEN_ASOCIADO=[]\n",
        "\n",
        "\n",
        "for i in urls:\n",
        "    url=str(i)\n",
        "    uclient=urlopen(url)\n",
        "    pagehtml=uclient.read()\n",
        "    uclient.close()\n",
        "    pagesoup=soup(pagehtml, \"html.parser\")\n",
        "    \n",
        "    qtl_id=pagesoup.find(\"td\",{\"colspan\":\"2\"}).h2.text[5:10]\n",
        "    \n",
        "    table=pagesoup.find(\"table\",{\"bordercolor\":\"#F5F5cC\"})\n",
        "    table2=pagesoup.find(\"table\",{\"bordercolor\":\"#feddfe\"})\n",
        "    table3=pagesoup.find(\"table\",{\"bordercolor\":\"#E8e8Ff\"})\n",
        "    \n",
        "    ranges=table.findAll(\"td\")[5].text\n",
        "    \n",
        "    for i in range(0,len(ranges)):\n",
        "        if ranges[i:i+4]==\"(cM)\":\n",
        "            RANGE_CM.append(ranges[0:i+4])\n",
        "            RANGE_MBP.append(ranges[i+4:len(ranges)])\n",
        "            \n",
        "    a=table3.findAll(\"tr\")[2].findAll(\"td\")[1].text.split()\n",
        "    \n",
        "    \n",
        "    QTL_ID.append(qtl_id)\n",
        "    CHROMOSOME.append(table.findAll(\"td\")[1].text)\n",
        "    CENTER_CM.append(table.find(\"td\",{\"width\":\"120\"}).text)\n",
        "    SIGNIFICANCE.append(table.findAll(\"td\")[26].text)\n",
        "    RAZA.append(table2.findAll(\"tr\")[2].div.a.text)\n",
        "    PAIS.append(a[len(a)-1])\n",
        "    GEN_ASOCIADO.append(table.findAll(\"tr\")[17].findAll(\"td\")[1].text)"
      ],
      "execution_count": 5,
      "outputs": []
    },
    {
      "cell_type": "code",
      "metadata": {
        "id": "7LluIN4WGK3W",
        "outputId": "1b4204fe-3ace-4e57-cb68-fc9d179e2498",
        "colab": {
          "base_uri": "https://localhost:8080/"
        }
      },
      "source": [
        "QTL_ID # llenamos las listas vacias para el csv"
      ],
      "execution_count": 6,
      "outputs": [
        {
          "output_type": "execute_result",
          "data": {
            "text/plain": [
              "['13827',\n",
              " '13830',\n",
              " '13832',\n",
              " '57709',\n",
              " '13992',\n",
              " '14147',\n",
              " '57681',\n",
              " '57684',\n",
              " '57718',\n",
              " '13996',\n",
              " '57740',\n",
              " '19311',\n",
              " '13672',\n",
              " '13818',\n",
              " '13820',\n",
              " '14246',\n",
              " '17058',\n",
              " '57745',\n",
              " '13985',\n",
              " '16017',\n",
              " '37589',\n",
              " '37592',\n",
              " '14148',\n",
              " '57690',\n",
              " '57749',\n",
              " '17059',\n",
              " '17059',\n",
              " '17059',\n",
              " '17059',\n",
              " '14190',\n",
              " '17060',\n",
              " '17060',\n",
              " '17060',\n",
              " '17060',\n",
              " '14186',\n",
              " '57696',\n",
              " '57730',\n",
              " '57752',\n",
              " '17060',\n",
              " '57756',\n",
              " '14149',\n",
              " '14150',\n",
              " '14192',\n",
              " '14193',\n",
              " '57732',\n",
              " '17061',\n",
              " '17061',\n",
              " '14006',\n",
              " '14151',\n",
              " '19311',\n",
              " '17022',\n",
              " '57763',\n",
              " '13906',\n",
              " '14008',\n",
              " '14152',\n",
              " '17022']"
            ]
          },
          "metadata": {
            "tags": []
          },
          "execution_count": 6
        }
      ]
    },
    {
      "cell_type": "code",
      "metadata": {
        "id": "STy74sQbNEqM",
        "outputId": "4119a2be-3ab7-4056-e384-3b5536a50fc7",
        "colab": {
          "base_uri": "https://localhost:8080/"
        }
      },
      "source": [
        "CHROMOSOME"
      ],
      "execution_count": 7,
      "outputs": [
        {
          "output_type": "execute_result",
          "data": {
            "text/plain": [
              "['1',\n",
              " '1',\n",
              " '1',\n",
              " '1',\n",
              " '2',\n",
              " '2',\n",
              " '2',\n",
              " '2',\n",
              " '2',\n",
              " '3',\n",
              " '3',\n",
              " '4',\n",
              " '6',\n",
              " '6',\n",
              " '6',\n",
              " '6',\n",
              " '6',\n",
              " '7',\n",
              " '9',\n",
              " '11',\n",
              " '11',\n",
              " '11',\n",
              " '12',\n",
              " '12',\n",
              " '13',\n",
              " '13',\n",
              " '13',\n",
              " '13',\n",
              " '13',\n",
              " '14',\n",
              " '14',\n",
              " '14',\n",
              " '14',\n",
              " '14',\n",
              " '15',\n",
              " '16',\n",
              " '16',\n",
              " '16',\n",
              " '16',\n",
              " '17',\n",
              " '18',\n",
              " '18',\n",
              " '18',\n",
              " '18',\n",
              " '19',\n",
              " '19',\n",
              " '19',\n",
              " '20',\n",
              " '20',\n",
              " '20',\n",
              " '21',\n",
              " '22',\n",
              " '23',\n",
              " '24',\n",
              " '24',\n",
              " '26']"
            ]
          },
          "metadata": {
            "tags": []
          },
          "execution_count": 7
        }
      ]
    }
  ]
}