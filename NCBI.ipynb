{
  "nbformat": 4,
  "nbformat_minor": 0,
  "metadata": {
    "colab": {
      "name": "NCBI.ipynb",
      "provenance": []
    },
    "kernelspec": {
      "name": "python3",
      "display_name": "Python 3"
    }
  },
  "cells": [
    {
      "cell_type": "markdown",
      "metadata": {
        "id": "L7c4DgKh-1Yi"
      },
      "source": [
        "### SCRAPEO DE NCBI"
      ]
    },
    {
      "cell_type": "code",
      "metadata": {
        "id": "LwXc8PcL-5Fw"
      },
      "source": [
        ""
      ],
      "execution_count": null,
      "outputs": []
    }
  ]
}