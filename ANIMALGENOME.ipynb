{
  "nbformat": 4,
  "nbformat_minor": 0,
  "metadata": {
    "colab": {
      "name": "ANIMALGENOME.ipynb",
      "provenance": []
    },
    "kernelspec": {
      "name": "python3",
      "display_name": "Python 3"
    }
  },
  "cells": [
    {
      "cell_type": "markdown",
      "metadata": {
        "id": "NtSyg_uQ63SR"
      },
      "source": [
        "### SCRAPEO DE ANIMALGENOME.ORG \n"
      ]
    },
    {
      "cell_type": "code",
      "metadata": {
        "id": "W9CkrGu_7IsY"
      },
      "source": [
        ""
      ],
      "execution_count": null,
      "outputs": []
    }
  ]
}